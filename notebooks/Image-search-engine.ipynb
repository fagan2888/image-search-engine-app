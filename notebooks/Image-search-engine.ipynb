{
 "cells": [
  {
   "cell_type": "markdown",
   "metadata": {},
   "source": [
    "# Image Search Engine"
   ]
  },
  {
   "cell_type": "markdown",
   "metadata": {},
   "source": [
    "## 1- Import tf 2 and check GPU support"
   ]
  },
  {
   "cell_type": "code",
   "execution_count": 1,
   "metadata": {},
   "outputs": [
    {
     "data": {
      "text/plain": [
       "'2.1.0'"
      ]
     },
     "execution_count": 1,
     "metadata": {},
     "output_type": "execute_result"
    }
   ],
   "source": [
    "import tensorflow as tf\n",
    "tf.__version__"
   ]
  },
  {
   "cell_type": "code",
   "execution_count": 2,
   "metadata": {},
   "outputs": [
    {
     "data": {
      "text/plain": [
       "[PhysicalDevice(name='/physical_device:GPU:0', device_type='GPU')]"
      ]
     },
     "execution_count": 2,
     "metadata": {},
     "output_type": "execute_result"
    }
   ],
   "source": [
    "tf.config.list_physical_devices('GPU')"
   ]
  },
  {
   "cell_type": "code",
   "execution_count": 3,
   "metadata": {},
   "outputs": [
    {
     "data": {
      "text/plain": [
       "True"
      ]
     },
     "execution_count": 3,
     "metadata": {},
     "output_type": "execute_result"
    }
   ],
   "source": [
    "tf.test.is_built_with_cuda()"
   ]
  },
  {
   "cell_type": "code",
   "execution_count": 4,
   "metadata": {},
   "outputs": [
    {
     "data": {
      "text/plain": [
       "[name: \"/device:CPU:0\"\n",
       " device_type: \"CPU\"\n",
       " memory_limit: 268435456\n",
       " locality {\n",
       " }\n",
       " incarnation: 10789649247113124794,\n",
       " name: \"/device:GPU:0\"\n",
       " device_type: \"GPU\"\n",
       " memory_limit: 1436473753\n",
       " locality {\n",
       "   bus_id: 1\n",
       "   links {\n",
       "   }\n",
       " }\n",
       " incarnation: 14016015609818023088\n",
       " physical_device_desc: \"device: 0, name: GeForce GTX 960M, pci bus id: 0000:01:00.0, compute capability: 5.0\"]"
      ]
     },
     "execution_count": 4,
     "metadata": {},
     "output_type": "execute_result"
    }
   ],
   "source": [
    "from tensorflow.python.client import device_lib\n",
    "\n",
    "device_lib.list_local_devices()"
   ]
  },
  {
   "cell_type": "markdown",
   "metadata": {},
   "source": [
    "## 2 Import required libs"
   ]
  },
  {
   "cell_type": "code",
   "execution_count": 3,
   "metadata": {},
   "outputs": [],
   "source": [
    "import numpy as np\n",
    "import os\n",
    "import cv2\n",
    "import matplotlib.pyplot as plt\n",
    "import seaborn as sns; sns.set()\n",
    "import pandas as pd\n",
    "import pickle\n",
    "\n",
    "from tqdm.notebook import tqdm\n",
    "from scipy.spatial import distance\n",
    "\n",
    "%matplotlib inline"
   ]
  },
  {
   "cell_type": "markdown",
   "metadata": {},
   "source": [
    "## 3 Load dataset"
   ]
  },
  {
   "cell_type": "code",
   "execution_count": 4,
   "metadata": {},
   "outputs": [],
   "source": [
    "def image_loader(image_path, image_size):\n",
    "    \"\"\" Load an image from the disk \"\"\"\n",
    "    \n",
    "    image = cv2.imread(image_path) #BGR\n",
    "    # convert to RGB\n",
    "    image = cv2.cvtColor(image, cv2.COLOR_BGR2RGB)\n",
    "    # resize using cubic interpolation, a way to deal with missing data (upsize or downsize)\n",
    "    image = cv2.resize(image, image_size, cv2.INTER_CUBIC) \n",
    "    \n",
    "    return image"
   ]
  },
  {
   "cell_type": "code",
   "execution_count": 5,
   "metadata": {},
   "outputs": [],
   "source": [
    "def dataset_preprocessing(dataset_path, labels_file_path, image_size, image_paths_pickle):\n",
    "    \"\"\" load images and labels from the dataset folder \"\"\"\n",
    "    \n",
    "    with open(labels_file_path,  \"r\") as f:\n",
    "        classes = f.read().split(\"\\n\")[:-1]\n",
    "    images = []\n",
    "    labels = []\n",
    "    image_paths = []\n",
    "    \n",
    "    for image_name in tqdm(os.listdir(dataset_path), desc=\"loading images\", unit=\"image loading\"):\n",
    "        \n",
    "        try:\n",
    "            image_path = os.path.join(dataset_path, image_name)\n",
    "            images.append(image_loader(image_path, image_size))\n",
    "            image_paths.append(image_path)\n",
    "            \n",
    "            for idx in range(len(classes)):\n",
    "                if classes[idx] in image_name: # exemple 0_frog.png\n",
    "                    labels.append(idx)\n",
    "        except Exception as e:\n",
    "            print(e)\n",
    "    \n",
    "    with open('../data/preprocessed/' + image_paths_pickle + '.pkl', 'wb') as f:\n",
    "        pickle.dump(image_paths, f)\n",
    "        \n",
    "    assert len(images) == len(labels)\n",
    "    \n",
    "    return np.array(images), np.array(labels)"
   ]
  },
  {
   "cell_type": "code",
   "execution_count": 6,
   "metadata": {},
   "outputs": [
    {
     "data": {
      "application/vnd.jupyter.widget-view+json": {
       "model_id": "d14d13c87f9d4f65a18213d921a6228e",
       "version_major": 2,
       "version_minor": 0
      },
      "text/plain": [
       "HBox(children=(FloatProgress(value=0.0, description='loading images', max=50000.0, style=ProgressStyle(descrip…"
      ]
     },
     "metadata": {},
     "output_type": "display_data"
    },
    {
     "name": "stdout",
     "output_type": "stream",
     "text": [
      "\n"
     ]
    }
   ],
   "source": [
    "images, labels = dataset_preprocessing(\"../data/raw/train\", \"../data/raw/labels.txt\", (32, 32), \"training_images_pickle\")"
   ]
  },
  {
   "cell_type": "code",
   "execution_count": 7,
   "metadata": {},
   "outputs": [
    {
     "data": {
      "text/plain": [
       "(50000, 32, 32, 3)"
      ]
     },
     "execution_count": 7,
     "metadata": {},
     "output_type": "execute_result"
    }
   ],
   "source": [
    "images.shape # 50000 images, 32x32 size with 3 channels "
   ]
  },
  {
   "cell_type": "markdown",
   "metadata": {},
   "source": [
    "## 4 Utils methods"
   ]
  },
  {
   "cell_type": "markdown",
   "metadata": {},
   "source": [
    "### 4.1 cosine distance\n",
    "<img src=\"../reports/consine_Dot_Product.png\">\n",
    "<img src=\"../reports/cosine.png\">"
   ]
  },
  {
   "cell_type": "code",
   "execution_count": 8,
   "metadata": {},
   "outputs": [],
   "source": [
    "def cosine_distance(training_set_vectors, query_vector, topn=50):\n",
    "    \"\"\" calculate cosine distance \"\"\"\n",
    "    \n",
    "    distances = []\n",
    "    \n",
    "    for i in tqdm(range(len(training_set_vectors))): # CIFAR-10 has 50k images\n",
    "        distances.append(distance.cosine(training_set_vectors[i], query_vector[0]))\n",
    "    \n",
    "    return np.argsort(distances)[:top_n]"
   ]
  },
  {
   "cell_type": "markdown",
   "metadata": {},
   "source": [
    "### 4.2 hamming distance\n",
    "\n",
    "Used only on binary values. Hamming distance = number of items different between A and B\n",
    "\n",
    "<img src=\"../reports/hamming.png\">"
   ]
  },
  {
   "cell_type": "code",
   "execution_count": 9,
   "metadata": {},
   "outputs": [],
   "source": [
    "def hamming_distance(training_set_vectors, query_vector, topn=50):\n",
    "    \"\"\" calculate hamming distance \"\"\"\n",
    "    \n",
    "    distances = []\n",
    "    \n",
    "    for i in tqdm(range(len(training_set_vectors))): # CIFAR-10 has 50k images\n",
    "        distances.append(distance.hamming(training_set_vectors[i], query_vector[0]))\n",
    "    \n",
    "    return np.argsort(distances)[:top_n]"
   ]
  },
  {
   "cell_type": "markdown",
   "metadata": {},
   "source": [
    "## 5 Model helper functions"
   ]
  },
  {
   "cell_type": "code",
   "execution_count": 11,
   "metadata": {},
   "outputs": [],
   "source": [
    "def conv_block(inputs, number_of_filters, kernel_size, strides=(1, 1), padding=\"SAME\", \n",
    "               activation = tf.keras.layers.Activation('relu'),\n",
    "               max_pool=True, batch_norm=True):\n",
    "    '''  \n",
    "    Defines convolutional block layer.\n",
    "\n",
    "    :param inputs: data from a previous layer\n",
    "    :param number_of_filters: integer, number of conv filters\n",
    "    :param kernel_size: tuple, size of conv layer kernel\n",
    "    :param padding: string, type of padding technique: SAME or VALID\n",
    "    :param activation: tf.object, activation function used on the layer\n",
    "    :param max_pool: boolean, if true the conv block will use max_pool\n",
    "    :param batch_norm: boolean, if true the conv block will use batch normalization\n",
    "    '''\n",
    "    print(inputs.shape)\n",
    "    conv_features = layer = tf.keras.layers.Conv2D(filters=number_of_filters,\n",
    "                                                   kernel_size=kernel_size,\n",
    "                                                   strides=strides, \n",
    "                                                   padding=padding, # \"VALID\" = without padding, \"SAME\" = with zero padding\n",
    "                                                   activation=activation)(inputs)\n",
    "    \n",
    "    if max_pool:\n",
    "        layer = tf.keras.layers.MaxPool2D(pool_size=(2, 2), strides=(2, 2), padding='SAME')(layer)\n",
    "        \n",
    "    if batch_norm:\n",
    "        layer = tf.keras.layers.BatchNormalization()(layer)\n",
    "        \n",
    "    return layer, conv_features # conv_features are the PURE features to use for representating our images (without max_pool & batch_norm)\n",
    "  "
   ]
  },
  {
   "cell_type": "code",
   "execution_count": 12,
   "metadata": {},
   "outputs": [],
   "source": [
    "def dense_block(inputs,\n",
    "                units, \n",
    "                activation = tf.keras.layers.Activation('relu'),\n",
    "                drop_out_rate=None,\n",
    "                batch_norm=True):\n",
    "    \"\"\"\n",
    "    Defines dense block layer.\n",
    "\n",
    "    :param inputs: data from a previous layer\n",
    "    :param units: integer, number of neurons/units for a dense layer\n",
    "    :param activation: tf.object, activation function used on the layer\n",
    "    :param dropout_rate: dropout rate used in this dense block\n",
    "    :param batch_norm: boolean, if true the conv block will use batch normalization\n",
    "    \"\"\"\n",
    "    \n",
    "    print(inputs.shape)\n",
    "    \n",
    "    layer = dense_features = tf.keras.layers.Dense(units=units, activation=activation)(inputs)\n",
    "    \n",
    "    if drop_out_rate is not None:\n",
    "        layer = tf.keras.layers.Dropout(rate=drop_out_rate)(layer)\n",
    "        \n",
    "    if batch_norm:\n",
    "        layer = tf.keras.layers.BatchNormalization()(layer)\n",
    "        \n",
    "    return layer, dense_features"
   ]
  },
  {
   "cell_type": "markdown",
   "metadata": {},
   "source": [
    "## 6. Model Architecturing\n",
    "\n",
    "<img src=\"../reports/conv_model.png\">\n",
    "\n",
    "\n",
    "\n",
    "https://github.com/hzitoun/CIFAR10-img-classification-tensorflow"
   ]
  },
  {
   "cell_type": "code",
   "execution_count": 134,
   "metadata": {},
   "outputs": [],
   "source": [
    "class ImageSearchAI():\n",
    "    \n",
    "    def __init__(self, drop_out_rate, image_size, number_of_classes=10):\n",
    "        \"\"\"Defines CNN model\"\"\"\n",
    "        \n",
    "        inputs = tf.keras.Input(shape=(image_size[0], image_size[1], 3), dtype=tf.float32, name=\"inputs\")\n",
    "        \n",
    "        \n",
    "        normalized_images = tf.keras.layers.BatchNormalization()(inputs)\n",
    "        \n",
    "        # conv block 1\n",
    "        conv_block1, self.conv_1_features = conv_block(normalized_images, \n",
    "                                                       number_of_filters=64, \n",
    "                                                       kernel_size=(3, 3), \n",
    "                                                       strides=(1, 1), padding=\"SAME\", \n",
    "                                                       activation = tf.keras.layers.Activation('relu'),\n",
    "                                                       max_pool=True, \n",
    "                                                       batch_norm=True)\n",
    "        # conv block 2\n",
    "        conv_block2, self.conv_2_features = conv_block(conv_block1, \n",
    "                                                       number_of_filters=128, \n",
    "                                                       kernel_size=(3, 3), \n",
    "                                                       strides=(1, 1), padding=\"SAME\", \n",
    "                                                       activation = tf.keras.layers.Activation('relu'),\n",
    "                                                       max_pool=True, \n",
    "                                                       batch_norm=True)\n",
    "        \n",
    "        # conv block 3\n",
    "        conv_block3, self.conv_3_features = conv_block(conv_block2, \n",
    "                                                       number_of_filters=256, \n",
    "                                                       kernel_size=(5, 5), \n",
    "                                                       strides=(1, 1), padding=\"SAME\", \n",
    "                                                       activation = tf.keras.layers.Activation('relu'),\n",
    "                                                       max_pool=True, \n",
    "                                                       batch_norm=True)\n",
    "        \n",
    "        # conv block 4\n",
    "        conv_block4, self.conv_4_features = conv_block(conv_block3, \n",
    "                                                       number_of_filters=512, \n",
    "                                                       kernel_size=(5, 5), \n",
    "                                                       strides=(1, 1), padding=\"SAME\", \n",
    "                                                       activation = tf.keras.layers.Activation('relu'),\n",
    "                                                       max_pool=True, \n",
    "                                                       batch_norm=True)\n",
    "        \n",
    "        # flatten : reshape to on single vector\n",
    "        flat_layer = tf.keras.layers.Flatten()(conv_block4)\n",
    "        # flat_layer = tf.keras.layers.Reshape((1, 2048))(flat_layer)\n",
    "        \n",
    "        # Dense block 1\n",
    "        dense_block1, self.dense_1_features = dense_block(flat_layer,\n",
    "                                                            units=128,\n",
    "                                                            activation= tf.keras.layers.Activation('relu'),\n",
    "                                                            drop_out_rate=drop_out_rate,\n",
    "                                                            batch_norm=True)\n",
    "        \n",
    "        # Dense block 2\n",
    "        dense_block2, self.dense_2_features = dense_block(dense_block1,\n",
    "                                                            units=256,\n",
    "                                                            activation= tf.keras.layers.Activation('relu'),\n",
    "                                                            drop_out_rate=drop_out_rate,\n",
    "                                                            batch_norm=True)\n",
    "        \n",
    "        # Dense block 3\n",
    "        dense_block3, self.dense_3_features = dense_block(dense_block2,\n",
    "                                                            units=512,\n",
    "                                                            activation= tf.keras.layers.Activation('relu'),\n",
    "                                                            drop_out_rate=drop_out_rate,\n",
    "                                                            batch_norm=True)\n",
    "        \n",
    "        # Dense block 4\n",
    "        dense_block4, self.dense_3_features = dense_block(dense_block3,\n",
    "                                                            units=1024,\n",
    "                                                            activation= tf.keras.layers.Activation('relu'),\n",
    "                                                            drop_out_rate=drop_out_rate,\n",
    "                                                            batch_norm=True)\n",
    "        # logits layer (the layer that feeds in to softmax)\n",
    "        logits = tf.keras.layers.Dense(units=number_of_classes, activation=None)(dense_block4)\n",
    "        \n",
    "        print(dense_block4.shape)\n",
    "        \n",
    "        self.predictions = tf.keras.layers.Softmax()(logits)\n",
    "        \n",
    "        \n",
    "        # Instantiate a Keras CNN\n",
    "        self.model = tf.keras.Model(inputs=inputs, outputs=self.predictions, name=\"keras_image_search_model\")\n",
    "    \n",
    "    def compile(self, learning_rate):\n",
    "        # Adam performs pretty well for CNN\n",
    "        self.model.compile(optimizer=tf.keras.optimizers.Adam(learning_rate=learning_rate), loss=tf.keras.losses.SparseCategoricalCrossentropy(), metrics=[\"sparse_categorical_accuracy\"])\n",
    "        \n",
    "    def train(self, x, y, batch_size, epochs, verbose, validation_data, callbacks):\n",
    "        return self.model.fit(x=x, y=y, batch_size=batch_size, epochs=epochs, verbose=verbose, validation_data=validation_data, callbacks=callbacks)"
   ]
  },
  {
   "cell_type": "code",
   "execution_count": 26,
   "metadata": {},
   "outputs": [
    {
     "data": {
      "image/png": "[encoded data removed]",
      "text/plain": [
       "<IPython.core.display.Image object>"
      ]
     },
     "execution_count": 26,
     "metadata": {},
     "output_type": "execute_result"
    }
   ],
   "source": [
    "import os\n",
    "\n",
    "os.environ['PATH'] = os.environ['PATH'] + \";\" +  r\"\"\"C:\\Users\\Hamed\\anaconda3\\envs\\image-search-engine-app\\Library\\bin\\graphviz\"\"\"\n",
    "\n",
    "from tensorflow.keras.utils import plot_model\n",
    "# plot graph\n",
    "plot_model(model.model, to_file='model.png')"
   ]
  },
  {
   "cell_type": "markdown",
   "metadata": {},
   "source": [
    "## 7. Training"
   ]
  },
  {
   "cell_type": "code",
   "execution_count": 164,
   "metadata": {},
   "outputs": [],
   "source": [
    "#hyperparameters\n",
    "epochs = 20\n",
    "learning_rate = 0.001\n",
    "batch_size = 512 # 16GB RAM, you could get up to 256\n",
    "droup_out_rate = 0.7 # (0.3 to 0.4 could overfit) <====================================\n",
    "image_size = (32, 32)"
   ]
  },
  {
   "cell_type": "code",
   "execution_count": 157,
   "metadata": {},
   "outputs": [
    {
     "name": "stdout",
     "output_type": "stream",
     "text": [
      "(None, 32, 32, 3)\n",
      "(None, 16, 16, 64)\n",
      "(None, 8, 8, 128)\n",
      "(None, 4, 4, 256)\n",
      "(None, 2048)\n",
      "(None, 128)\n",
      "(None, 256)\n",
      "(None, 512)\n",
      "(None, 1024)\n"
     ]
    }
   ],
   "source": [
    "image_search_ai = ImageSearchAI(drop_out_rate=droup_out_rate, \n",
    "                                image_size=image_size)\n",
    "image_search_ai.compile(learning_rate=learning_rate)"
   ]
  },
  {
   "cell_type": "code",
   "execution_count": 86,
   "metadata": {},
   "outputs": [
    {
     "data": {
      "application/vnd.jupyter.widget-view+json": {
       "model_id": "7d672067d4ff4f0e87ee00a8bf6697d4",
       "version_major": 2,
       "version_minor": 0
      },
      "text/plain": [
       "HBox(children=(FloatProgress(value=0.0, description='loading images', max=50000.0, style=ProgressStyle(descrip…"
      ]
     },
     "metadata": {},
     "output_type": "display_data"
    },
    {
     "name": "stdout",
     "output_type": "stream",
     "text": [
      "\n"
     ]
    },
    {
     "data": {
      "application/vnd.jupyter.widget-view+json": {
       "model_id": "b53090d3beb84d448a1c97d680110684",
       "version_major": 2,
       "version_minor": 0
      },
      "text/plain": [
       "HBox(children=(FloatProgress(value=0.0, description='loading images', max=10000.0, style=ProgressStyle(descrip…"
      ]
     },
     "metadata": {},
     "output_type": "display_data"
    },
    {
     "name": "stdout",
     "output_type": "stream",
     "text": [
      "\n"
     ]
    }
   ],
   "source": [
    "X_train, y_train = dataset_preprocessing(\"../data/raw/train\", \"../data/raw/labels.txt\", (32, 32), \"training_images_pickle\")\n",
    "X_test, y_test = dataset_preprocessing(\"../data/raw/test\", \"../data/raw/labels.txt\", (32, 32), \"testing_images_pickle\")"
   ]
  },
  {
   "cell_type": "code",
   "execution_count": 87,
   "metadata": {},
   "outputs": [
    {
     "data": {
      "text/plain": [
       "((50000, 32, 32, 3), (50000,), (10000, 32, 32, 3), (10000,))"
      ]
     },
     "execution_count": 87,
     "metadata": {},
     "output_type": "execute_result"
    }
   ],
   "source": [
    "X_train.shape, y_train.shape, X_test.shape, y_test.shape"
   ]
  },
  {
   "cell_type": "code",
   "execution_count": 165,
   "metadata": {},
   "outputs": [
    {
     "data": {
      "application/vnd.jupyter.widget-view+json": {
       "model_id": "dfb546fbd4194fd3838764dd6d205ceb",
       "version_major": 2,
       "version_minor": 0
      },
      "text/plain": [
       "HBox(children=(FloatProgress(value=0.0, max=20.0), HTML(value='')))"
      ]
     },
     "metadata": {},
     "output_type": "display_data"
    },
    {
     "data": {
      "application/vnd.jupyter.widget-view+json": {
       "model_id": "",
       "version_major": 2,
       "version_minor": 0
      },
      "text/plain": [
       "HBox(children=(FloatProgress(value=1.0, bar_style='info', max=1.0), HTML(value='')))"
      ]
     },
     "metadata": {},
     "output_type": "display_data"
    },
    {
     "name": "stdout",
     "output_type": "stream",
     "text": [
      "\n"
     ]
    }
   ],
   "source": [
    "from tqdm.keras import TqdmCallback\n",
    "\n",
    "early_stopping_callback = tf.keras.callbacks.EarlyStopping(monitor='sparse_categorical_accuracy', patience=3, \n",
    "                                                           restore_best_weights=True)\n",
    "\n",
    "history = image_search_ai.train(\n",
    "    x=X_train,\n",
    "    y=y_train,\n",
    "    batch_size=batch_size,\n",
    "    epochs=3,\n",
    "    verbose=0,\n",
    "    validation_data=(X_test, y_test),\n",
    "    callbacks=[TqdmCallback(verbose=1, epochs=epochs, batch_size=batch_size), early_stopping_callback])"
   ]
  },
  {
   "cell_type": "code",
   "execution_count": 166,
   "metadata": {},
   "outputs": [
    {
     "data": {
      "image/png": "[encoded data removed]",
      "text/plain": [
       "<Figure size 432x288 with 1 Axes>"
      ]
     },
     "metadata": {
      "needs_background": "light"
     },
     "output_type": "display_data"
    },
    {
     "data": {
      "image/png": "[encoded data removed]",
      "text/plain": [
       "<Figure size 432x288 with 1 Axes>"
      ]
     },
     "metadata": {
      "needs_background": "light"
     },
     "output_type": "display_data"
    }
   ],
   "source": [
    "import matplotlib.pyplot as plt\n",
    "\n",
    "# Plot training & validation accuracy values\n",
    "plt.plot(history.history['sparse_categorical_accuracy'])\n",
    "plt.plot(history.history['val_sparse_categorical_accuracy'])\n",
    "plt.title('Model accuracy')\n",
    "plt.ylabel('Accuracy')\n",
    "plt.xlabel('Epoch')\n",
    "plt.legend(['Train', 'Test'], loc='upper left')\n",
    "plt.show()\n",
    "\n",
    "# Plot training & validation loss values\n",
    "plt.plot(history.history['loss'])\n",
    "plt.plot(history.history['val_loss'])\n",
    "plt.title('Model loss')\n",
    "plt.ylabel('Loss')\n",
    "plt.xlabel('Epoch')\n",
    "plt.legend(['Train', 'Test'], loc='upper left')\n",
    "plt.show()"
   ]
  },
  {
   "cell_type": "code",
   "execution_count": null,
   "metadata": {},
   "outputs": [],
   "source": []
  }
 ],
 "metadata": {
  "kernelspec": {
   "display_name": "Python 3",
   "language": "python",
   "name": "python3"
  },
  "language_info": {
   "codemirror_mode": {
    "name": "ipython",
    "version": 3
   },
   "file_extension": ".py",
   "mimetype": "text/x-python",
   "name": "python",
   "nbconvert_exporter": "python",
   "pygments_lexer": "ipython3",
   "version": "3.7.7"
  }
 },
 "nbformat": 4,
 "nbformat_minor": 4
}
